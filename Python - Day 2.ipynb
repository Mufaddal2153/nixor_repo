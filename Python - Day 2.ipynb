{
 "cells": [
  {
   "cell_type": "markdown",
   "metadata": {},
   "source": [
    "# Objectives\n",
    "\n",
    "\n",
    "* **Introduction to Python**<br><br>\n",
    "\n",
    "* **Hands-on**\n",
    " * Conditions\n",
    " * lists\n",
    " * Tuples\n",
    " * For Loop<br><br>\n",
    "\n",
    "* **Future Topics**<br><br>\n",
    "\n",
    "* **Helpful hints & resources**"
   ]
  },
  {
   "cell_type": "markdown",
   "metadata": {},
   "source": [
    "### If and else Decision Blocks\n",
    "#### If block \n",
    "* Consists of a Condition or Boolean expression followed by one or more statements.\n",
    "* If the Condition or Boolean expression is **True**, then the statement(s) are executed. If **False**, then then the statement(s) are skipped\n",
    "\n",
    "**if   < condition >:**\n",
    "<br>\n",
    "$\\;\\;\\;\\;\\;\\;$**statement(s)**"
   ]
  },
  {
   "cell_type": "code",
   "execution_count": 1,
   "metadata": {},
   "outputs": [
    {
     "name": "stdout",
     "output_type": "stream",
     "text": [
      "'a' is less than or equal to 5\n",
      "This statement is also executed under the if block\n"
     ]
    }
   ],
   "source": [
    "a = 5\n",
    "if a <= 5:\n",
    "    print('\\'a\\' is less than or equal to 5')\n",
    "    print('This statement is also executed under the if block')"
   ]
  },
  {
   "cell_type": "code",
   "execution_count": 2,
   "metadata": {},
   "outputs": [
    {
     "name": "stdout",
     "output_type": "stream",
     "text": [
      "DONE\n"
     ]
    }
   ],
   "source": [
    "if a <= 4:\n",
    "    print('\\'a\\' is less than or equal to 5')\n",
    "    print('This statement is also executed under the if block')\n",
    "print('DONE')"
   ]
  },
  {
   "cell_type": "markdown",
   "metadata": {},
   "source": [
    "**<h5><center>Note</center></h5>**\n",
    "\n",
    "**Python Blocks**\n",
    "* Every Python block like the **' if '** block is marked by a colon **' : '**\n",
    "* All the statements under the block must be indented under the block\n",
    "* Indentation must be consistent for each block and the whole python code"
   ]
  },
  {
   "cell_type": "markdown",
   "metadata": {},
   "source": [
    "#### If..else blocks\n",
    "* **' if '** block may be followed by an optional **' else '** block which executes when the Condition or Boolean expression is false\n",
    "* If the Condition or Boolean expression is **True**, then the statement(s) 1 are executed. If **False**, then then the statement(s) 2 are executed\n",
    "* The **' else '** block has no conditions attached\n",
    "* There can be only one **' if '** block and one **' else '** block \n",
    "\n",
    "**if   < condition >:**\n",
    "<br>\n",
    "$\\;\\;\\;\\;\\;\\;$**statement(s) 1**\n",
    "<br>\n",
    "**else:**\n",
    "<br>\n",
    "$\\;\\;\\;\\;\\;\\;$**statement(s) 2**"
   ]
  },
  {
   "cell_type": "code",
   "execution_count": 3,
   "metadata": {},
   "outputs": [
    {
     "name": "stdout",
     "output_type": "stream",
     "text": [
      "'a' must be greater than 5\n",
      "This statement is also executed under the else block\n",
      "DONE\n"
     ]
    }
   ],
   "source": [
    "a = 6\n",
    "if a <= 5:\n",
    "    print('\\'a\\' is less than or equal to 5')\n",
    "    print('This statement is also executed under the if block')\n",
    "else:\n",
    "    print('\\'a\\' must be greater than 5')\n",
    "    print('This statement is also executed under the else block')\n",
    "print('DONE')"
   ]
  },
  {
   "cell_type": "markdown",
   "metadata": {},
   "source": [
    "#### If..elif..else blocks\n",
    "\n",
    "* **' if '** block may be followed by one or more optional **' elif '** (Else if) blocks and one optional **' else '** block\n",
    "* The **' if '** block and **' elif '** blocks must have conditions attached. The **' else '** block has no conditions attached\n",
    "* There can be only one **' if '** block and one **' else '** block. There can be more than one **' elif '** blocks. \n",
    "* If the Condition or Boolean expression under the **' if '** block is **False**, then the condition of the next **' elif '** block is examined. If **True**, the statement(s) 2 are executed. If **False**, the next **' elif '** block is examined until the statements under the **' else '** block are executed if an **' else '** block exists.  \n",
    "\n",
    "**if   < condition >:**\n",
    "<br>\n",
    "$\\;\\;\\;\\;\\;\\;$**statement(s) 1**\n",
    "<br>\n",
    "**elif   < condition >:**\n",
    "<br>\n",
    "$\\;\\;\\;\\;\\;\\;$**statement(s) 2**\n",
    "<br>\n",
    "**elif   < condition >:**\n",
    "<br>\n",
    "$\\;\\;\\;\\;\\;\\;$**statement(s) 3**\n",
    "<br>\n",
    "**else:**\n",
    "<br>\n",
    "$\\;\\;\\;\\;\\;\\;$**statement(s) 4**"
   ]
  },
  {
   "cell_type": "code",
   "execution_count": 4,
   "metadata": {},
   "outputs": [
    {
     "name": "stdout",
     "output_type": "stream",
     "text": [
      "Type a number for 'b': 1\n",
      "'a' is less than or equal to 5\n",
      "DONE\n"
     ]
    }
   ],
   "source": [
    "b = input('Type a number for \\'b\\': ')\n",
    "a = float(b)\n",
    "if a <= 5:\n",
    "    print('\\'a\\' is less than or equal to 5')\n",
    "elif a > 5 and a <= 8:\n",
    "    print('\\'a\\' is greater than 5 and less than or equal to 8')\n",
    "elif a > 8 and a <= 10:\n",
    "    print('\\'a\\' is greater than 8 and less than or equal to 10')\n",
    "else:\n",
    "    print('\\'a\\' must be greater than 10')\n",
    "print('DONE')"
   ]
  },
  {
   "cell_type": "markdown",
   "metadata": {},
   "source": [
    "# Exercise 2\n",
    "\n",
    "Write the below program\n",
    "\n",
    "A shop will give discount of 10% if the cost of purchased quantity is more than 1000.\n",
    "Ask user for quantity\n",
    "Suppose, one unit will cost 100.\n",
    "Judge and print total cost for user."
   ]
  },
  {
   "cell_type": "markdown",
   "metadata": {},
   "source": [
    "# Lists\n",
    "* A datatype that can store a collection of different pieces of information as a sequence under a single variable name\n",
    "* **Creating lists** - Put comma separated values within square brackets. Values can be of different data types"
   ]
  },
  {
   "cell_type": "code",
   "execution_count": 5,
   "metadata": {},
   "outputs": [],
   "source": [
    "list1 = ['physics','astronomy',56.98,'MJ',-9.36]\n",
    "\n",
    "# list within a list\n",
    "list2 = ['chemistry','biology',77.98,[3,4,65],'EE',-56]"
   ]
  },
  {
   "cell_type": "code",
   "execution_count": 6,
   "metadata": {},
   "outputs": [
    {
     "data": {
      "text/plain": [
       "'physics'"
      ]
     },
     "execution_count": 6,
     "metadata": {},
     "output_type": "execute_result"
    }
   ],
   "source": [
    "list1[0]"
   ]
  },
  {
   "cell_type": "code",
   "execution_count": 7,
   "metadata": {},
   "outputs": [
    {
     "data": {
      "text/plain": [
       "'r'"
      ]
     },
     "execution_count": 7,
     "metadata": {},
     "output_type": "execute_result"
    }
   ],
   "source": [
    "list1[1][3]"
   ]
  },
  {
   "cell_type": "code",
   "execution_count": 8,
   "metadata": {},
   "outputs": [
    {
     "data": {
      "text/plain": [
       "['physics', 'astronomy', 56.98, 'MJ']"
      ]
     },
     "execution_count": 8,
     "metadata": {},
     "output_type": "execute_result"
    }
   ],
   "source": [
    "list1[0:4]"
   ]
  },
  {
   "cell_type": "markdown",
   "metadata": {},
   "source": [
    "### List Concatenation\n",
    "**Can be done by using the (+) operator between two lists**"
   ]
  },
  {
   "cell_type": "code",
   "execution_count": 9,
   "metadata": {},
   "outputs": [
    {
     "data": {
      "text/plain": [
       "[1, 2, 3, 5, 6, 7]"
      ]
     },
     "execution_count": 9,
     "metadata": {},
     "output_type": "execute_result"
    }
   ],
   "source": [
    "[1,2,3] + [5,6,7]"
   ]
  },
  {
   "cell_type": "code",
   "execution_count": 10,
   "metadata": {},
   "outputs": [
    {
     "data": {
      "text/plain": [
       "['physics',\n",
       " 'astronomy',\n",
       " 56.98,\n",
       " 'MJ',\n",
       " -9.36,\n",
       " 'chemistry',\n",
       " 'biology',\n",
       " 77.98,\n",
       " [3, 4, 65],\n",
       " 'EE',\n",
       " -56]"
      ]
     },
     "execution_count": 10,
     "metadata": {},
     "output_type": "execute_result"
    }
   ],
   "source": [
    "list1 + list2"
   ]
  },
  {
   "cell_type": "code",
   "execution_count": 11,
   "metadata": {},
   "outputs": [],
   "source": [
    "list3 = [3,4,67,2,1] \n",
    "list4 = ['3','4','67','2','1','four','three']"
   ]
  },
  {
   "cell_type": "code",
   "execution_count": 12,
   "metadata": {},
   "outputs": [
    {
     "data": {
      "text/plain": [
       "67"
      ]
     },
     "execution_count": 12,
     "metadata": {},
     "output_type": "execute_result"
    }
   ],
   "source": [
    "max(list3)"
   ]
  },
  {
   "cell_type": "code",
   "execution_count": 13,
   "metadata": {},
   "outputs": [
    {
     "data": {
      "text/plain": [
       "'three'"
      ]
     },
     "execution_count": 13,
     "metadata": {},
     "output_type": "execute_result"
    }
   ],
   "source": [
    "max(list4)"
   ]
  },
  {
   "cell_type": "code",
   "execution_count": 14,
   "metadata": {},
   "outputs": [
    {
     "data": {
      "text/plain": [
       "['3', '4', '67', '2', '1', 'four', 'three', 'two', 'three']"
      ]
     },
     "execution_count": 14,
     "metadata": {},
     "output_type": "execute_result"
    }
   ],
   "source": [
    "list4.append('two')\n",
    "list4.append('three')\n",
    "list4"
   ]
  },
  {
   "cell_type": "code",
   "execution_count": 15,
   "metadata": {},
   "outputs": [
    {
     "data": {
      "text/plain": [
       "2"
      ]
     },
     "execution_count": 15,
     "metadata": {},
     "output_type": "execute_result"
    }
   ],
   "source": [
    "list4.count('three')"
   ]
  },
  {
   "cell_type": "code",
   "execution_count": 16,
   "metadata": {},
   "outputs": [
    {
     "data": {
      "text/plain": [
       "4"
      ]
     },
     "execution_count": 16,
     "metadata": {},
     "output_type": "execute_result"
    }
   ],
   "source": [
    "list4.index('1')"
   ]
  },
  {
   "cell_type": "code",
   "execution_count": 17,
   "metadata": {},
   "outputs": [
    {
     "data": {
      "text/plain": [
       "['3', '4', '67', 56, '2', '1', 'four', 'three', 'two', 'three']"
      ]
     },
     "execution_count": 17,
     "metadata": {},
     "output_type": "execute_result"
    }
   ],
   "source": [
    "## Insert\n",
    "list4.insert(3,56)\n",
    "list4"
   ]
  },
  {
   "cell_type": "markdown",
   "metadata": {},
   "source": [
    "**Delete object**\n",
    "\n",
    "*By Index position*"
   ]
  },
  {
   "cell_type": "code",
   "execution_count": 18,
   "metadata": {},
   "outputs": [
    {
     "data": {
      "text/plain": [
       "56"
      ]
     },
     "execution_count": 18,
     "metadata": {},
     "output_type": "execute_result"
    }
   ],
   "source": [
    "list4.pop(3)"
   ]
  },
  {
   "cell_type": "code",
   "execution_count": 19,
   "metadata": {},
   "outputs": [],
   "source": [
    "list4.remove('67')"
   ]
  },
  {
   "cell_type": "code",
   "execution_count": 20,
   "metadata": {},
   "outputs": [
    {
     "data": {
      "text/plain": [
       "['three', 'two', 'three', 'four', '1', '2', '4', '3']"
      ]
     },
     "execution_count": 20,
     "metadata": {},
     "output_type": "execute_result"
    }
   ],
   "source": [
    "list4.reverse()\n",
    "list4"
   ]
  },
  {
   "cell_type": "markdown",
   "metadata": {},
   "source": [
    "**<h5><center>Note</center></h5>**\n",
    "\n",
    "**Lists are \"MUTABLE\"**"
   ]
  },
  {
   "cell_type": "markdown",
   "metadata": {},
   "source": [
    "# Tuples\n",
    "**Tuples are sequences, just like lists except**\n",
    "* Tuples are immutable - cannot be changed or updated like lists\n",
    "* Tuples use parentheses ( ), whereas lists use square brackets [ ]"
   ]
  },
  {
   "cell_type": "code",
   "execution_count": 21,
   "metadata": {},
   "outputs": [],
   "source": [
    "tup = (3,4,67,2,1)"
   ]
  },
  {
   "cell_type": "markdown",
   "metadata": {},
   "source": [
    "**tup[2] = 8**\n",
    "<br>\n",
    "will result in the error below\n",
    "\n",
    "TypeError                                 Traceback (most recent call last)\n",
    "<br>\n",
    "< ipython-input-177-256383ac5724 > in < module >()\n",
    "<br>\n",
    "----> 1 tup[2] = 8\n",
    "<br>\n",
    "TypeError: 'tuple' object does not support item assignment"
   ]
  },
  {
   "cell_type": "markdown",
   "metadata": {},
   "source": [
    "### For Loop\n",
    "* Each item in the sequence is assigned to the iterating variable and the statements are executed for each item until the entire sequence is exhausted.\n",
    "  \n",
    "  **for < iterating variable > in < sequence > :**\n",
    "  \n",
    "  $\\;\\;\\;\\;\\;\\;$**statement(s)** "
   ]
  },
  {
   "cell_type": "code",
   "execution_count": 22,
   "metadata": {},
   "outputs": [
    {
     "name": "stdout",
     "output_type": "stream",
     "text": [
      "s\n",
      "t\n",
      "r\n",
      "i\n",
      "n\n",
      "g\n"
     ]
    }
   ],
   "source": [
    "for var in 'string':\n",
    "    print(var)"
   ]
  },
  {
   "cell_type": "code",
   "execution_count": 23,
   "metadata": {},
   "outputs": [
    {
     "name": "stdout",
     "output_type": "stream",
     "text": [
      "S\n",
      "T\n",
      "R\n",
      "I\n",
      "N\n",
      "G\n"
     ]
    }
   ],
   "source": [
    "k = 'string'\n",
    "for var in k:\n",
    "    print(var.upper())"
   ]
  },
  {
   "cell_type": "code",
   "execution_count": 24,
   "metadata": {},
   "outputs": [
    {
     "name": "stdout",
     "output_type": "stream",
     "text": [
      "banana\n",
      "orange\n",
      "mango\n"
     ]
    }
   ],
   "source": [
    "list1 = ['banana','orange','mango']\n",
    "for fruit in list1:\n",
    "    print(fruit)"
   ]
  },
  {
   "cell_type": "code",
   "execution_count": 25,
   "metadata": {},
   "outputs": [
    {
     "name": "stdout",
     "output_type": "stream",
     "text": [
      "2\n",
      "4\n",
      "1\n",
      "34\n",
      "5\n"
     ]
    }
   ],
   "source": [
    "for num in (2,4,1,34,5):\n",
    "    print(num)"
   ]
  },
  {
   "cell_type": "markdown",
   "metadata": {},
   "source": [
    "**<h5><center>Note</center></h5>**\n",
    "\n",
    "\n",
    "**Range function**\n",
    "The **range** function generates a list of numbers\n",
    "* **range ( num )** - generates a list of numbers from **0** to **'num - 1'**\n",
    "* **range ( start , limit )** - generates a list of numbers from **'start'** to **'limit - 1'**\n",
    "* **range ( start , limit , increment )** - generates a list of numbers from **'start'**, incrementing by **'increment'** until a number less or equal to **'limit - 1'**"
   ]
  },
  {
   "cell_type": "code",
   "execution_count": 26,
   "metadata": {},
   "outputs": [
    {
     "name": "stdout",
     "output_type": "stream",
     "text": [
      "0\n",
      "1\n",
      "2\n",
      "3\n",
      "4\n",
      "5\n",
      "6\n",
      "7\n",
      "8\n",
      "9\n"
     ]
    }
   ],
   "source": [
    "for num in range(10):\n",
    "    print(num)"
   ]
  },
  {
   "cell_type": "code",
   "execution_count": 27,
   "metadata": {},
   "outputs": [
    {
     "name": "stdout",
     "output_type": "stream",
     "text": [
      "-6\n",
      "-5\n",
      "-4\n",
      "-3\n",
      "-2\n",
      "-1\n",
      "0\n",
      "1\n",
      "2\n",
      "3\n",
      "4\n",
      "5\n"
     ]
    }
   ],
   "source": [
    "for num in range(-6,6):\n",
    "    print(num)"
   ]
  },
  {
   "cell_type": "code",
   "execution_count": 28,
   "metadata": {},
   "outputs": [
    {
     "name": "stdout",
     "output_type": "stream",
     "text": [
      "-10\n",
      "-40\n",
      "-70\n"
     ]
    }
   ],
   "source": [
    "for num in range(-10,-100,-30):\n",
    "    print(num)"
   ]
  },
  {
   "cell_type": "code",
   "execution_count": 29,
   "metadata": {},
   "outputs": [
    {
     "name": "stdout",
     "output_type": "stream",
     "text": [
      "0\n",
      "4\n",
      "8\n",
      "12\n",
      "16\n"
     ]
    }
   ],
   "source": [
    "for num in range(0,20,4):\n",
    "    print(num)"
   ]
  },
  {
   "cell_type": "markdown",
   "metadata": {},
   "source": [
    "#### For..else loop blocks\n",
    "* A feature very unique to Python just like **'while..else'** block\n",
    "* The **'else'** block executes when the loop exits normally\n",
    "* The **'else'** block does not execute when the loop exits as a result of a break"
   ]
  },
  {
   "cell_type": "code",
   "execution_count": 30,
   "metadata": {},
   "outputs": [
    {
     "name": "stdout",
     "output_type": "stream",
     "text": [
      "You have...\n",
      "banana\n",
      "apple\n",
      "orange\n",
      "tomato is not a fruit!\n"
     ]
    }
   ],
   "source": [
    "fruits = ['banana','apple','orange','tomato','pear']\n",
    "print('You have...')\n",
    "for f in fruits:\n",
    "    if f == 'tomato':\n",
    "        print('tomato is not a fruit!')\n",
    "        break\n",
    "    print(f)\n",
    "else:\n",
    "    print('A fine selection of fruits!')"
   ]
  },
  {
   "cell_type": "code",
   "execution_count": null,
   "metadata": {},
   "outputs": [],
   "source": []
  }
 ],
 "metadata": {
  "kernelspec": {
   "display_name": "Python 3",
   "language": "python",
   "name": "python3"
  },
  "language_info": {
   "codemirror_mode": {
    "name": "ipython",
    "version": 3
   },
   "file_extension": ".py",
   "mimetype": "text/x-python",
   "name": "python",
   "nbconvert_exporter": "python",
   "pygments_lexer": "ipython3",
   "version": "3.8.5"
  }
 },
 "nbformat": 4,
 "nbformat_minor": 4
}
